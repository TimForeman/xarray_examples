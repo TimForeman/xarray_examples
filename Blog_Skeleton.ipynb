{
 "cells": [
  {
   "cell_type": "markdown",
   "metadata": {},
   "source": [
    "# Spatial Blog Coarse Draft\n",
    "\n",
    "Social Sciences are increasingly using data produced by the natural sciences, which often comes in gridded formats at high spatial and temporal resolution. Data on Social outcomes is, on the other hand, often reported at adimistrative level (e.g. census tract, country, state, country), and possibly at a coarser time frequency. Combining these datasets requires therefore both spatially and temporal aggregation. \n",
    "\n",
    "In this blog post we will provide an example of how this can be done using the National Water Model (NWM).\n",
    "\n",
    "\n"
   ]
  },
  {
   "cell_type": "markdown",
   "metadata": {},
   "source": [
    "### Temporal Aggregation\n",
    "\n",
    "The NWM contains raster data on surface water depth reported at a 3 hour interval. Social and Economic data will most likely not be reported at such granular level. Therefore the first step is to create a meaningfull temporal aggregation of the NWM data.\n",
    "\n",
    "One such aggregation is to count, for every pixel, the number of times the surface water level exceeds a certain threshold within a given period. The threshold could be specified as for example the mean or a specific quantile of the values throughout the period of study. [Talk about reasoning behind the measure?] The given period on the other hand, will have to match that of the Economic data.\n",
    "\n",
    "In practice we can achieve this using the Xarray package as following:\n"
   ]
  },
  {
   "cell_type": "markdown",
   "metadata": {},
   "source": [
    "Lets start by opening up all the data sets for a given day, in this case 2011/04/28, and combining them into a single dataset. The Xarray function open_mfdataset let us do this process seamlesly through one line of code. "
   ]
  },
  {
   "cell_type": "code",
   "execution_count": 1,
   "metadata": {},
   "outputs": [
    {
     "name": "stdout",
     "output_type": "stream",
     "text": [
      "['noaa-nwm-retro-v2.0-pds/full_physics/2011/201104280000.RTOUT_DOMAIN1.comp', 'noaa-nwm-retro-v2.0-pds/full_physics/2011/201104280300.RTOUT_DOMAIN1.comp', 'noaa-nwm-retro-v2.0-pds/full_physics/2011/201104280600.RTOUT_DOMAIN1.comp', 'noaa-nwm-retro-v2.0-pds/full_physics/2011/201104280900.RTOUT_DOMAIN1.comp', 'noaa-nwm-retro-v2.0-pds/full_physics/2011/201104281200.RTOUT_DOMAIN1.comp', 'noaa-nwm-retro-v2.0-pds/full_physics/2011/201104281500.RTOUT_DOMAIN1.comp', 'noaa-nwm-retro-v2.0-pds/full_physics/2011/201104281800.RTOUT_DOMAIN1.comp', 'noaa-nwm-retro-v2.0-pds/full_physics/2011/201104282100.RTOUT_DOMAIN1.comp']\n"
     ]
    },
    {
     "name": "stderr",
     "output_type": "stream",
     "text": [
      "C:\\ProgramData\\Anaconda3\\envs\\nwm39\\lib\\site-packages\\pyproj\\__init__.py:91: UserWarning: Valid PROJ data directory not found. Either set the path using the environmental variable PROJ_LIB or with `pyproj.datadir.set_data_dir`.\n",
      "  warnings.warn(str(err))\n"
     ]
    },
    {
     "name": "stdout",
     "output_type": "stream",
     "text": [
      "<xarray.Dataset>\n",
      "Dimensions:         (time: 1, reference_time: 1, x: 18432, y: 15360)\n",
      "Coordinates:\n",
      "  * time            (time) datetime64[ns] 2011-04-28\n",
      "  * reference_time  (reference_time) datetime64[ns] 2011-04-01\n",
      "  * x               (x) float64 -2.304e+06 -2.304e+06 ... 2.304e+06 2.304e+06\n",
      "  * y               (y) float64 -1.92e+06 -1.92e+06 ... 1.92e+06 1.92e+06\n",
      "Data variables:\n",
      "    crs             |S1 ...\n",
      "    zwattablrt      (time, y, x) float64 ...\n",
      "    sfcheadsubrt    (time, y, x) float64 ...\n",
      "Attributes:\n",
      "    model_initialization_time:  2011-04-01_00:00:00\n",
      "    model_output_valid_time:    2011-04-28_00:00:00\n",
      "    model_total_valid_times:    [2184]\n",
      "    Conventions:                CF-1.6\n",
      "    code_version:               v5.1.0-alpha11\n",
      "    model_output_type:          terrain_rt\n",
      "    model_configuration:        retrospective\n",
      "    proj4:                      +proj=lcc +units=m +a=6370000.0 +b=6370000.0 ...\n",
      "    GDAL_DataType:              Generic\n"
     ]
    }
   ],
   "source": [
    "import s3fs\n",
    "import xarray as xr\n",
    "import re\n",
    "\n",
    "fs = s3fs.S3FileSystem(anon=True)\n",
    "nwm_path = r\"noaa-nwm-retro-v2.0-pds/full_physics/2011/\"\n",
    "files_list = fs.ls(str(nwm_path))\n",
    "filter = re.compile('.*20110428' + '.*\\.RTOUT_DOMAIN1.comp')\n",
    "files_filtered = [ s for s in files_list if filter.match(s) ]\n",
    "#print(files_filtered)\n",
    "#d = xr.open_mfdataset([ fs.open(s) for s in files_filtered])\n",
    "d = xr.open_dataset(fs.open(files_filtered[0]))\n",
    "print(d)\n"
   ]
  },
  {
   "cell_type": "markdown",
   "metadata": {},
   "source": [
    "We see the metadata of the xarray dataset. The data is quite large, with dimensions 18,432x15,360. We will want to subset this to our area of interest before we try to run any operations on it. We also see that the x and y coordinates are projection coordinates with units in meters. We will need to reproject these coordinates if we want to match with data in latitude-longitude coordinates.\n"
   ]
  },
  {
   "cell_type": "markdown",
   "metadata": {},
   "source": [
    "We first read in the shapefile for Arkansas census tracts using geopandas."
   ]
  },
  {
   "cell_type": "code",
   "execution_count": 2,
   "metadata": {},
   "outputs": [
    {
     "name": "stderr",
     "output_type": "stream",
     "text": [
      "C:\\ProgramData\\Anaconda3\\envs\\nwm39\\lib\\site-packages\\pyproj\\crs\\crs.py:131: FutureWarning: '+init=<authority>:<code>' syntax is deprecated. '<authority>:<code>' is the preferred initialization method. When making the change, be mindful of axis order changes: https://pyproj4.github.io/pyproj/stable/gotchas.html#axis-order-changes-in-proj-6\n",
      "  in_crs_string = _prepare_from_proj_string(in_crs_string)\n"
     ]
    },
    {
     "name": "stdout",
     "output_type": "stream",
     "text": [
      "<xarray.Dataset>\n",
      "Dimensions:         (time: 1, reference_time: 1, x: 1759, y: 1602)\n",
      "Coordinates:\n",
      "  * time            (time) datetime64[ns] 2011-04-28\n",
      "  * reference_time  (reference_time) datetime64[ns] 2011-04-01\n",
      "  * x               (x) float64 2.081e+05 2.084e+05 ... 6.474e+05 6.476e+05\n",
      "  * y               (y) float64 -7.539e+05 -7.536e+05 ... -3.539e+05 -3.536e+05\n",
      "Data variables:\n",
      "    crs             |S1 ...\n",
      "    zwattablrt      (time, y, x) float64 ...\n",
      "    sfcheadsubrt    (time, y, x) float64 ...\n",
      "Attributes:\n",
      "    model_initialization_time:  2011-04-01_00:00:00\n",
      "    model_output_valid_time:    2011-04-28_00:00:00\n",
      "    model_total_valid_times:    [2184]\n",
      "    Conventions:                CF-1.6\n",
      "    code_version:               v5.1.0-alpha11\n",
      "    model_output_type:          terrain_rt\n",
      "    model_configuration:        retrospective\n",
      "    proj4:                      +proj=lcc +units=m +a=6370000.0 +b=6370000.0 ...\n",
      "    GDAL_DataType:              Generic\n"
     ]
    }
   ],
   "source": [
    "import geopandas as gpd\n",
    "\n",
    "# read in shapefile\n",
    "state=5\n",
    "statenum = str(state).zfill(2)\n",
    "\n",
    "stfile = \"C:/Users/Tim/Data/shapefiles/cb_2018_\" + statenum + \"_tract_500k.shp\"\n",
    "\n",
    "ar_shp=gpd.read_file(stfile)\n",
    "#print(ar_shp.head())\n",
    "\n",
    "# keep a version of the original data\n",
    "orig=gpd.read_file(stfile)\n",
    "\n",
    "import pyproj\n",
    "from pyproj import Proj, transform\n",
    "import dask\n",
    "\n",
    "# get projection info\n",
    "proj = d.attrs['proj4']\n",
    "p=Proj(proj)\n",
    "\n",
    "\n",
    "# transform lat lon coordinates to the xarray projection\n",
    "from shapely.ops import transform\n",
    "project = pyproj.Transformer.from_proj(\n",
    "    pyproj.Proj(init='epsg:4326'), # source coordinate system\n",
    "    p) # destination coordinate system\n",
    "\n",
    "outpoly = [transform(project.transform, x) for x in ar_shp['geometry']]\n",
    "ar_shp['geometry']=outpoly\n",
    "\n",
    "\n",
    "# get bounding box of shapefile\n",
    "bounds=ar_shp.total_bounds\n",
    "#print(bounds)\n",
    "minx=bounds[0]\n",
    "miny=bounds[1]\n",
    "maxx=bounds[2]\n",
    "maxy=bounds[3]\n",
    "\n",
    "# subset the xarray dataset based on the bounding coordinates of the state\n",
    "d_ar=d.sel(x=slice(minx,maxx))\n",
    "d_ar=d_ar.sel(y=slice(miny,maxy))\n",
    "\n",
    "var = 'sfcheadsubrt'\n",
    "\n",
    "dask.config.set(**{'array.slicing.split_large_chunks': False})\n",
    "\n",
    "print(d_ar)\n"
   ]
  },
  {
   "cell_type": "markdown",
   "metadata": {},
   "source": [
    "Again we print the xarray metadata. Now we have data that only covers Arkansas, a grid of 1759x1602, which is much more manageable. However, since we reprojected the shapefile, our gridded data is still in projection coordinates."
   ]
  },
  {
   "cell_type": "markdown",
   "metadata": {},
   "source": [
    "#### Spatial Aggregation\n",
    "\n",
    "Now that our data is a more manageable size, we can reproject the gridded data from projection coordinates to latitude-longitude coordinates.\n"
   ]
  },
  {
   "cell_type": "code",
   "execution_count": 4,
   "metadata": {},
   "outputs": [],
   "source": [
    "import rioxarray\n",
    "import salem\n",
    "import matplotlib.pyplot as plt\n",
    "import numpy as np\n",
    "#import xesmf as xe\n",
    "\n",
    "\n",
    "\n",
    "\n",
    "\n",
    "# read the crs\n",
    "proj = d.attrs['proj4']\n",
    "# use the format needed for salem\n",
    "p=Proj(proj)\n",
    "\n",
    "# write the crs to the xarray dataset\n",
    "d_ar.rio.write_crs(proj,inplace=True)\n",
    "# use rioxarray to reproject\n",
    "dll = d_ar.rio.reproject(\"+proj=longlat +datum=WGS84 +no_defs\",dtype=np.int32)\n"
   ]
  },
  {
   "cell_type": "markdown",
   "metadata": {},
   "source": [
    "Next, we will aggregate the data up to the census tract level. Now that our data is in lat-lon coordinates, it will match up with the original shapefile data."
   ]
  },
  {
   "cell_type": "code",
   "execution_count": 8,
   "metadata": {},
   "outputs": [],
   "source": [
    "# uses salem to create a grid of points corresponding to the xarray data\n",
    "# this will be needed for the aggregation\n",
    "def createGrid(da,crs):\n",
    "    x0=np.min(da.coords['x'])\n",
    "    y0=np.max(da.coords['y'])\n",
    "    # determine number of grid points\n",
    "    nx=len(da.coords['x'])\n",
    "    ny=len(da.coords['y'])\n",
    "    # create the grid of points used in the NWM\n",
    "    dx=float(da.coords['x'][1]-da.coords['x'][0])\n",
    "    dy=float(da.coords['y'][1]-da.coords['y'][0])\n",
    "    allgrid=salem.Grid(crs,nxny=[nx,ny],dxdy=[dx,dy],x0y0=[x0,y0])\n",
    "    return allgrid\n",
    "\n",
    "dgrid = createGrid(dll,proj)\n",
    "\n",
    "\n",
    "def spatialAgg(poly,allgrid,crs,d):\n",
    "    subpts = allgrid.region_of_interest(geometry=poly,crs=crs,all_touched=True)\n",
    "    #subpts = allgrid.region_of_interest(geometry=poly,crs=crs)\n",
    "    d['mask'] = (('y', 'x'), subpts)\n",
    "    totalpts=subpts.sum() \n",
    "    outds = ((d['mask']*d).sum(dim=['x','y'])/totalpts)\n",
    "    outb1 = outds['sfcheadsubrt'].to_numpy()\n",
    "    return outb1\n",
    "\n",
    "ar_shp=orig\n",
    "\n",
    "out = [spatialAgg(x,dgrid,p,dll) for x in ar_shp['geometry']]\n",
    "\n",
    "ar_shp['avgdepth']=out\n",
    "#print(ar_shp.head())\n",
    "ar_shp['avgdepth']=ar_shp['avgdepth'].astype(float)"
   ]
  },
  {
   "cell_type": "code",
   "execution_count": 74,
   "metadata": {},
   "outputs": [
    {
     "name": "stdout",
     "output_type": "stream",
     "text": [
      "<xarray.Dataset>\n",
      "Dimensions:       (x: 1984, y: 1498, time: 1)\n",
      "Coordinates:\n",
      "  * x             (x) float64 -94.74 -94.74 -94.73 ... -89.59 -89.58 -89.58\n",
      "  * y             (y) float64 36.7 36.7 36.7 36.7 ... 32.82 32.81 32.81 32.81\n",
      "  * time          (time) datetime64[ns] 2011-04-28\n",
      "    crs           int32 0\n",
      "Data variables:\n",
      "    zwattablrt    (time, y, x) float64 nan nan nan nan nan ... nan nan nan nan\n",
      "    sfcheadsubrt  (time, y, x) float64 nan nan nan nan nan ... nan nan nan nan\n",
      "    mask          (y, x) int16 0 0 0 0 0 0 0 0 0 0 0 0 ... 0 0 0 0 0 0 0 0 0 0 0\n",
      "Attributes:\n",
      "    model_initialization_time:  2011-04-01_00:00:00\n",
      "    model_output_valid_time:    2011-04-28_00:00:00\n",
      "    model_total_valid_times:    [2184]\n",
      "    Conventions:                CF-1.6\n",
      "    code_version:               v5.1.0-alpha11\n",
      "    model_output_type:          terrain_rt\n",
      "    model_configuration:        retrospective\n",
      "    proj4:                      +proj=lcc +units=m +a=6370000.0 +b=6370000.0 ...\n",
      "    GDAL_DataType:              Generic\n"
     ]
    },
    {
     "name": "stderr",
     "output_type": "stream",
     "text": [
      "C:\\ProgramData\\Anaconda3\\envs\\nwm39\\lib\\site-packages\\xarray\\core\\computation.py:727: RuntimeWarning: divide by zero encountered in log\n",
      "  result_data = func(*input_data)\n"
     ]
    },
    {
     "data": {
      "image/png": "[encoded data removed]",
      "text/plain": [
       "<Figure size 432x288 with 4 Axes>"
      ]
     },
     "metadata": {
      "needs_background": "light"
     },
     "output_type": "display_data"
    }
   ],
   "source": [
    "# set up and plot\n",
    "dll.sfcheadsubrt.attrs['long_name'] = 'log(surface head)'\n",
    "print(dll)\n",
    "f, (ax1, ax2) = plt.subplots(2,1)\n",
    "np.log(dll.sfcheadsubrt).plot(ax=ax1,robust=True,label='d')\n",
    "ar_shp.plot(facecolor='none',edgecolor=\"black\",linewidth=.1,ax=ax1)\n",
    "ar_shp.plot('avgdepth',ax=ax2,legend=True,legend_kwds={'label':'mean surface head [mm]'})\n",
    "#ar_shp.plot('avgdepth',ax=ax2,legend=True,legend_kwds={'shrink': 0.55})\n",
    "ax1.title.set_text('Gridded data')\n",
    "ax2.axes.set_xlabel('longitude [degrees_east]')\n",
    "ax2.axes.set_ylabel('latitude [degrees_north]')\n",
    "ax2.title.set_text('Census tract data')\n",
    "#ax1.axes.set_aspect('equal')\n",
    "#ax1.legend(fontsize=6)\n",
    "#plt.legend(loc=1,prop={'size': 6})\n",
    "#f.colorbar(ax2,shrink=0.9)\n",
    "f.tight_layout()\n",
    "plt.draw()"
   ]
  }
 ],
 "metadata": {
  "interpreter": {
   "hash": "19e1e4ec48cd4f34a33856b40b434ea6a732da48a4bf7173b5cf98d0affd4618"
  },
  "kernelspec": {
   "display_name": "nwm39",
   "language": "python",
   "name": "nwm39"
  },
  "language_info": {
   "codemirror_mode": {
    "name": "ipython",
    "version": 3
   },
   "file_extension": ".py",
   "mimetype": "text/x-python",
   "name": "python",
   "nbconvert_exporter": "python",
   "pygments_lexer": "ipython3",
   "version": "3.9.10"
  }
 },
 "nbformat": 4,
 "nbformat_minor": 2
}
